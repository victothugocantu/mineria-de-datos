{
 "cells": [
  {
   "cell_type": "markdown",
   "metadata": {},
   "source": [
    "# EJERICICIO 1 "
   ]
  },
  {
   "cell_type": "markdown",
   "metadata": {},
   "source": [
    "Realiza una variable con tu matricula y realiza una secuencia de imprimir con tu nombre y tu matricula concatenados."
   ]
  },
  {
   "cell_type": "code",
   "execution_count": 4,
   "metadata": {},
   "outputs": [
    {
     "name": "stdout",
     "output_type": "stream",
     "text": [
      "Victor  1806169\n"
     ]
    }
   ],
   "source": [
    "m= 1806169\n",
    "print(\"Victor  \"+ str(m))"
   ]
  },
  {
   "cell_type": "markdown",
   "metadata": {},
   "source": [
    "# EJERCICIO 2\n"
   ]
  },
  {
   "cell_type": "markdown",
   "metadata": {},
   "source": [
    "Crea un input que pida dos numeros y crea una calculadora con los operadores basicos"
   ]
  },
  {
   "cell_type": "code",
   "execution_count": 5,
   "metadata": {},
   "outputs": [
    {
     "name": "stdout",
     "output_type": "stream",
     "text": [
      "Ingresa el primer numero10\n",
      "Ingresa el segundo numero2\n",
      "Suma:  12\n",
      "Resta:  8\n",
      "Multiplicación:  20\n",
      "Division:  5.0\n",
      "Exponente:  100\n"
     ]
    }
   ],
   "source": [
    "n1= int(input(\"Ingresa el primer numero\"))\n",
    "n2= int(input(\"Ingresa el segundo numero\"))\n",
    "\n",
    "print(\"Suma: \", n1+n2)\n",
    "print(\"Resta: \", n1-n2)\n",
    "print(\"Multiplicación: \", n1*n2)\n",
    "print(\"Division: \", n1/n2)\n",
    "print(\"Exponente: \", n1**n2)"
   ]
  },
  {
   "cell_type": "markdown",
   "metadata": {},
   "source": [
    "# EJERCICIO 3\n"
   ]
  },
  {
   "cell_type": "markdown",
   "metadata": {},
   "source": [
    "Con loop while o for, realiza una lista de 10 numeros multiplos de 3, y después realiza una función de loop que sume todos los números dentro del arreglo."
   ]
  },
  {
   "cell_type": "code",
   "execution_count": 6,
   "metadata": {},
   "outputs": [
    {
     "name": "stdout",
     "output_type": "stream",
     "text": [
      "3 3\n",
      "6 9\n",
      "9 15\n",
      "12 21\n",
      "15 27\n",
      "18 33\n",
      "21 39\n",
      "24 45\n",
      "27 51\n",
      "30 57\n"
     ]
    }
   ],
   "source": [
    "i=3\n",
    "c=0\n",
    "while i<=30:\n",
    "    print(i,i+c)\n",
    "    c=i\n",
    "    i=i+3"
   ]
  },
  {
   "cell_type": "markdown",
   "metadata": {},
   "source": [
    "# EJERCICIO 4"
   ]
  },
  {
   "cell_type": "markdown",
   "metadata": {},
   "source": [
    "Con una función de if else, revisar si un número es par o es impar. Con una función de if else, revisar si un número es primo o no."
   ]
  },
  {
   "cell_type": "code",
   "execution_count": 7,
   "metadata": {},
   "outputs": [
    {
     "name": "stdout",
     "output_type": "stream",
     "text": [
      "Introduzca un numero:3\n",
      "El numero es impar\n",
      "El numero es primo\n"
     ]
    }
   ],
   "source": [
    "n= int(input(\"Introduzca un numero:\"))\n",
    "\n",
    "r=n%2\n",
    "if r == 0:\n",
    "    print (\"El numero es par\")\n",
    "else:\n",
    "    print (\"El numero es impar\")\n",
    "    \n",
    "\n",
    "c=0\n",
    "for i in range(1, n+1):\n",
    "    if(n%i)==0:\n",
    "        c= c+1\n",
    "if c==2:\n",
    "    print(\"El numero es primo\")\n",
    "else:\n",
    "    print(\"El numero no es primo\")"
   ]
  },
  {
   "cell_type": "markdown",
   "metadata": {},
   "source": [
    "# EJERCICIO 5"
   ]
  },
  {
   "cell_type": "markdown",
   "metadata": {},
   "source": [
    "Utilizando diferentes clases en python, crea una calculadora con los operadores básicos de suma, resta, multiplicación, división, y exponente."
   ]
  },
  {
   "cell_type": "code",
   "execution_count": null,
   "metadata": {},
   "outputs": [
    {
     "name": "stdout",
     "output_type": "stream",
     "text": [
      " \n",
      "Introduzca primer numero:3\n",
      "Introduzca segundo numero: 2\n",
      "1.Suma 2.Resta 3.Multiplicacion 4.Division 5.Salir\n",
      "Seleccione una opcion:2\n",
      "Resultado:  1\n"
     ]
    }
   ],
   "source": [
    "def suma(x,y):\n",
    "    return x+by\n",
    "def resta(x,y):\n",
    "    return x-y\n",
    "def mult(x,y):\n",
    "    return x*y\n",
    "def divi(x,y):\n",
    "    return x/y\n",
    "s=0\n",
    "while s != 1:\n",
    "    input()\n",
    "    x = int(input(\"Introduzca primer numero:\" ))\n",
    "    y = int(input(\"Introduzca segundo numero: \"))\n",
    "    print(\"1.Suma 2.Resta 3.Multiplicacion 4.Division 5.Salir\")\n",
    "    op = int(input(\"Seleccione una opcion:\" ))\n",
    "    if op==1:\n",
    "         print(\"Resultado: \",suma(x,y))\n",
    "    elif op==2:\n",
    "        print(\"Resultado: \",resta(x,y))\n",
    "    elif op==3:\n",
    "        print(\"Resultado: \",mult(x,y))\n",
    "    elif op==4:\n",
    "        print(\"Resultado: \",divi(x,y))\n",
    "    elif op==5:\n",
    "        print(\"Adios\")\n",
    "        s=1\n",
    "    else:\n",
    "        print(\"Opcion no valida\")"
   ]
  },
  {
   "cell_type": "markdown",
   "metadata": {},
   "source": []
  },
  {
   "cell_type": "markdown",
   "metadata": {},
   "source": [
    "# Ejercicios con estructuras básicas de python.¶\n",
    "Tuplas"
   ]
  },
  {
   "cell_type": "markdown",
   "metadata": {},
   "source": [
    "* Crear una variable flotante, integer, boleana y compleja e imprimir el tipo de variable que es.\n",
    "* Crear una tupla con valores enteros imprimir el primer y ultimo valor.\n",
    "* Añadir 3 valores de string a la tupla.\n",
    "* Verificar si una variable existe dentro de la tupla."
   ]
  },
  {
   "cell_type": "code",
   "execution_count": null,
   "metadata": {},
   "outputs": [],
   "source": [
    "inte=7\n",
    "b=False\n",
    "c=2+5j\n",
    "\n",
    "print(type(f), type(inte), type(b), type(c))\n",
    "\n",
    "a=(1,2,3,4,5)\n",
    "print(a[0],\" , \", a[-1])"
   ]
  },
  {
   "cell_type": "code",
   "execution_count": null,
   "metadata": {},
   "outputs": [],
   "source": [
    "a=a+(\"hola\",\"como\",\"estas\")\n",
    "a"
   ]
  },
  {
   "cell_type": "code",
   "execution_count": null,
   "metadata": {},
   "outputs": [],
   "source": [
    "5 in a\n"
   ]
  },
  {
   "cell_type": "markdown",
   "metadata": {},
   "source": [
    "\n",
    "Listas\n",
    "*Crear una lista con 40 elementos aleatorios enteros.\n",
    "*Con una funcion (def) crear dos listas nuevas a partir de la lista creada por numeros aleatorios, en la cual en una esten los elementos pares, y en la otra los elementos impares.\n",
    "*Crear dos variables con la longitud de ambas listas nuevas e imprimir las variables.\n",
    "*Ordenar los elementos de la lista par de mayor a menor, y los de la lista impar de menor a mayor.\n",
    "*Utilizar al menos cuatro de las funciones de listas en python en la lista original de 40 elementos."
   ]
  },
  {
   "cell_type": "code",
   "execution_count": null,
   "metadata": {},
   "outputs": [],
   "source": [
    "\n",
    "from random import randint\n",
    "l=[randint(1, 50) for i in range(40)]\n",
    "l"
   ]
  },
  {
   "cell_type": "code",
   "execution_count": null,
   "metadata": {},
   "outputs": [],
   "source": [
    "def separador(l):\n",
    "    lim=len(l)\n",
    "    pares=[]\n",
    "    impares=[]\n",
    "    for i in range(lim):\n",
    "        if l[i]%2==0:\n",
    "            pares.append(l[i])\n",
    "        else:\n",
    "            impares.append(l[i])\n",
    "    return pares,impares\n",
    "pares, impares=separador(l)\n",
    "print(\"pares=\", pares)\n",
    "print(\"impares=\",impares)"
   ]
  },
  {
   "cell_type": "code",
   "execution_count": null,
   "metadata": {},
   "outputs": [],
   "source": [
    "long_pares=len(pares)\n",
    "long_impares=len(impares)\n",
    "print(\"Longitudes:\")\n",
    "print(\"Pares=\", long_pares)\n",
    "print(\"Impares=\",long_impares)"
   ]
  },
  {
   "cell_type": "code",
   "execution_count": null,
   "metadata": {},
   "outputs": [],
   "source": [
    "pares.sort(reverse=True)\n",
    "impares.sort()\n",
    "print(\"Pares=\", pares)\n",
    "print(\"Impares=\",impares)"
   ]
  },
  {
   "cell_type": "code",
   "execution_count": null,
   "metadata": {},
   "outputs": [],
   "source": [
    "import random as rd\n",
    "l_ej=rd.sample(l,5)\n",
    "print(l_ej)\n",
    "\n",
    "l_ej.reverse()\n",
    "print(l_ej)\n",
    "\n",
    "\n",
    "l_ej.insert(1, \"Victor\")\n",
    "print(l_ej)\n",
    "\n",
    "\n",
    "l_ej.append(52)\n",
    "print(l_ej)\n",
    "\n",
    "l_ej.pop(2)\n",
    "print(l_ej)"
   ]
  },
  {
   "cell_type": "markdown",
   "metadata": {},
   "source": [
    "\n",
    "Diccionario\n",
    "*Crear un diccionario de 6 personas que conozcas con su primer nombre y su edad.\n",
    "*Crear una lista con los valores de la edad y reacomodar la lista de menor a mayor valor.\n",
    "*Usando el diccionario y un loop, imprimir solo los nombres.\n",
    "*Añadir dos personas nuevas a tu diccionario, incluyendo edad."
   ]
  },
  {
   "cell_type": "code",
   "execution_count": null,
   "metadata": {},
   "outputs": [],
   "source": [
    "dic={\"Victor\":21, \"Carolina\":17, \"Hugo\":50, \"Judith\":48, \"Maria\":69, \"Margrito\":70}\n",
    "dic"
   ]
  },
  {
   "cell_type": "code",
   "execution_count": null,
   "metadata": {},
   "outputs": [],
   "source": [
    "edad=[i for i in dic.values()]\n",
    "edad.sort()\n",
    "print(edad)"
   ]
  },
  {
   "cell_type": "code",
   "execution_count": null,
   "metadata": {},
   "outputs": [],
   "source": [
    "for i in dic:\n",
    "    print(i)"
   ]
  },
  {
   "cell_type": "code",
   "execution_count": null,
   "metadata": {},
   "outputs": [],
   "source": [
    "dic[\"Isauro\"]=21\n",
    "dic[\"Emma\"]=19\n",
    "dic"
   ]
  },
  {
   "cell_type": "markdown",
   "metadata": {},
   "source": [
    "\n",
    "Sets\n",
    "*Crea un set con 100 numeros aleatorios enteros del 1 al 25.\n",
    "*Comprueba la longitud de tu set.\n",
    "*Crea una lista de 5 numeros aleatorios del 1 al 10 y comprueba si cada valor aparece en el set inicial.\n",
    "Sets\n",
    "*Crea un set con 100 numeros aleatorios enteros del 1 al 25.\n",
    "*Comprueba la longitud de tu set.\n",
    "*Crea una lista de 5 numeros aleatorios del 1 al 10 y comprueba si cada valor aparece en el set inicial."
   ]
  },
  {
   "cell_type": "code",
   "execution_count": null,
   "metadata": {},
   "outputs": [],
   "source": [
    "\n",
    "set1 =[randint(1, 25) for i in range(100)]\n",
    "set1"
   ]
  },
  {
   "cell_type": "code",
   "execution_count": null,
   "metadata": {},
   "outputs": [],
   "source": [
    "print(len(set1))"
   ]
  },
  {
   "cell_type": "code",
   "execution_count": null,
   "metadata": {},
   "outputs": [],
   "source": [
    "setnew=[randint(1, 10) for i in range(5)]\n",
    "print(setnew)\n",
    "for i in range(5):\n",
    "    if setnew[i] in set1:\n",
    "        print(\"El numero \", setnew[i],\"aparece en el set inicial\")\n",
    "    else:\n",
    "        print(\"El numero \", setnew[i],\"no aparece en el set inicial\")"
   ]
  },
  {
   "cell_type": "code",
   "execution_count": null,
   "metadata": {},
   "outputs": [],
   "source": []
  }
 ],
 "metadata": {
  "kernelspec": {
   "display_name": "Python 3",
   "language": "python",
   "name": "python3"
  },
  "language_info": {
   "codemirror_mode": {
    "name": "ipython",
    "version": 3
   },
   "file_extension": ".py",
   "mimetype": "text/x-python",
   "name": "python",
   "nbconvert_exporter": "python",
   "pygments_lexer": "ipython3",
   "version": "3.7.6"
  }
 },
 "nbformat": 4,
 "nbformat_minor": 4
}
